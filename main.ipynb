{
 "cells": [
  {
   "cell_type": "markdown",
   "metadata": {},
   "source": [
    "# Download Libs"
   ]
  },
  {
   "cell_type": "code",
   "execution_count": 3,
   "metadata": {},
   "outputs": [
    {
     "name": "stdout",
     "output_type": "stream",
     "text": [
      "showing info https://raw.githubusercontent.com/nltk/nltk_data/gh-pages/index.xml\n"
     ]
    },
    {
     "data": {
      "text/plain": [
       "True"
      ]
     },
     "execution_count": 3,
     "metadata": {},
     "output_type": "execute_result"
    }
   ],
   "source": [
    "import nltk\n",
    "nltk.download('all')"
   ]
  },
  {
   "cell_type": "code",
   "execution_count": 5,
   "metadata": {},
   "outputs": [
    {
     "name": "stdout",
     "output_type": "stream",
     "text": [
      "zsh:1: command not found: y\n",
      "Collecting spacy\n",
      "  Downloading spacy-3.2.3-cp39-cp39-manylinux_2_17_x86_64.manylinux2014_x86_64.whl (6.1 MB)\n",
      "\u001b[K     |████████████████████████████████| 6.1 MB 4.9 MB/s eta 0:00:01     |█▍                              | 256 kB 4.9 MB/s eta 0:00:02\n",
      "\u001b[?25hCollecting blis<0.8.0,>=0.4.0\n",
      "  Downloading blis-0.7.6-cp39-cp39-manylinux_2_17_x86_64.manylinux2014_x86_64.whl (9.9 MB)\n",
      "\u001b[K     |████████████████████████████████| 9.9 MB 16.5 MB/s eta 0:00:01\n",
      "\u001b[?25hCollecting pydantic!=1.8,!=1.8.1,<1.9.0,>=1.7.4\n",
      "  Downloading pydantic-1.8.2-cp39-cp39-manylinux2014_x86_64.whl (11.3 MB)\n",
      "\u001b[K     |████████████████████████████████| 11.3 MB 24.5 MB/s eta 0:00:01\n",
      "\u001b[?25hRequirement already satisfied: setuptools in /home/gfco/.asdf/installs/python/anaconda3-2021.11/lib/python3.9/site-packages (from spacy) (58.0.4)\n",
      "Collecting typer<0.5.0,>=0.3.0\n",
      "  Downloading typer-0.4.0-py3-none-any.whl (27 kB)\n",
      "Collecting catalogue<2.1.0,>=2.0.6\n",
      "  Downloading catalogue-2.0.6-py3-none-any.whl (17 kB)\n",
      "Requirement already satisfied: packaging>=20.0 in /home/gfco/.asdf/installs/python/anaconda3-2021.11/lib/python3.9/site-packages (from spacy) (21.0)\n",
      "Collecting thinc<8.1.0,>=8.0.12\n",
      "  Downloading thinc-8.0.13-cp39-cp39-manylinux_2_17_x86_64.manylinux2014_x86_64.whl (635 kB)\n",
      "\u001b[K     |████████████████████████████████| 635 kB 23.3 MB/s eta 0:00:01\n",
      "\u001b[?25hRequirement already satisfied: tqdm<5.0.0,>=4.38.0 in /home/gfco/.asdf/installs/python/anaconda3-2021.11/lib/python3.9/site-packages (from spacy) (4.62.3)\n",
      "Collecting spacy-legacy<3.1.0,>=3.0.8\n",
      "  Downloading spacy_legacy-3.0.9-py2.py3-none-any.whl (20 kB)\n",
      "Collecting murmurhash<1.1.0,>=0.28.0\n",
      "  Downloading murmurhash-1.0.6-cp39-cp39-manylinux_2_5_x86_64.manylinux1_x86_64.manylinux_2_17_x86_64.manylinux2014_x86_64.whl (21 kB)\n",
      "Collecting cymem<2.1.0,>=2.0.2\n",
      "  Downloading cymem-2.0.6-cp39-cp39-manylinux_2_17_x86_64.manylinux2014_x86_64.whl (35 kB)\n",
      "Collecting pathy>=0.3.5\n",
      "  Downloading pathy-0.6.1-py3-none-any.whl (42 kB)\n",
      "\u001b[K     |████████████████████████████████| 42 kB 78 kB/s s eta 0:00:01\n",
      "\u001b[?25hRequirement already satisfied: jinja2 in /home/gfco/.asdf/installs/python/anaconda3-2021.11/lib/python3.9/site-packages (from spacy) (2.11.3)\n",
      "Collecting spacy-loggers<2.0.0,>=1.0.0\n",
      "  Downloading spacy_loggers-1.0.1-py3-none-any.whl (7.0 kB)\n",
      "Requirement already satisfied: requests<3.0.0,>=2.13.0 in /home/gfco/.asdf/installs/python/anaconda3-2021.11/lib/python3.9/site-packages (from spacy) (2.26.0)\n",
      "Collecting preshed<3.1.0,>=3.0.2\n",
      "  Downloading preshed-3.0.6-cp39-cp39-manylinux_2_5_x86_64.manylinux1_x86_64.manylinux_2_17_x86_64.manylinux2014_x86_64.whl (128 kB)\n",
      "\u001b[K     |████████████████████████████████| 128 kB 52.0 MB/s eta 0:00:01\n",
      "\u001b[?25hRequirement already satisfied: numpy>=1.15.0 in /home/gfco/.asdf/installs/python/anaconda3-2021.11/lib/python3.9/site-packages (from spacy) (1.20.3)\n",
      "Collecting wasabi<1.1.0,>=0.8.1\n",
      "  Downloading wasabi-0.9.0-py3-none-any.whl (25 kB)\n",
      "Collecting srsly<3.0.0,>=2.4.1\n",
      "  Downloading srsly-2.4.2-cp39-cp39-manylinux_2_17_x86_64.manylinux2014_x86_64.whl (452 kB)\n",
      "\u001b[K     |████████████████████████████████| 452 kB 27.4 MB/s eta 0:00:01\n",
      "\u001b[?25hCollecting langcodes<4.0.0,>=3.2.0\n",
      "  Downloading langcodes-3.3.0-py3-none-any.whl (181 kB)\n",
      "\u001b[K     |████████████████████████████████| 181 kB 47.3 MB/s eta 0:00:01\n",
      "\u001b[?25hRequirement already satisfied: pyparsing>=2.0.2 in /home/gfco/.asdf/installs/python/anaconda3-2021.11/lib/python3.9/site-packages (from packaging>=20.0->spacy) (3.0.4)\n",
      "Collecting smart-open<6.0.0,>=5.0.0\n",
      "  Downloading smart_open-5.2.1-py3-none-any.whl (58 kB)\n",
      "\u001b[K     |████████████████████████████████| 58 kB 5.8 MB/s  eta 0:00:01\n",
      "\u001b[?25hRequirement already satisfied: typing-extensions>=3.7.4.3 in /home/gfco/.asdf/installs/python/anaconda3-2021.11/lib/python3.9/site-packages (from pydantic!=1.8,!=1.8.1,<1.9.0,>=1.7.4->spacy) (3.10.0.2)\n",
      "Requirement already satisfied: urllib3<1.27,>=1.21.1 in /home/gfco/.asdf/installs/python/anaconda3-2021.11/lib/python3.9/site-packages (from requests<3.0.0,>=2.13.0->spacy) (1.26.7)\n",
      "Requirement already satisfied: idna<4,>=2.5 in /home/gfco/.asdf/installs/python/anaconda3-2021.11/lib/python3.9/site-packages (from requests<3.0.0,>=2.13.0->spacy) (3.2)\n",
      "Requirement already satisfied: certifi>=2017.4.17 in /home/gfco/.asdf/installs/python/anaconda3-2021.11/lib/python3.9/site-packages (from requests<3.0.0,>=2.13.0->spacy) (2021.10.8)\n",
      "Requirement already satisfied: charset-normalizer~=2.0.0 in /home/gfco/.asdf/installs/python/anaconda3-2021.11/lib/python3.9/site-packages (from requests<3.0.0,>=2.13.0->spacy) (2.0.4)\n",
      "Requirement already satisfied: click<9.0.0,>=7.1.1 in /home/gfco/.asdf/installs/python/anaconda3-2021.11/lib/python3.9/site-packages (from typer<0.5.0,>=0.3.0->spacy) (8.0.3)\n",
      "Requirement already satisfied: MarkupSafe>=0.23 in /home/gfco/.asdf/installs/python/anaconda3-2021.11/lib/python3.9/site-packages (from jinja2->spacy) (1.1.1)\n",
      "Installing collected packages: murmurhash, cymem, catalogue, wasabi, typer, srsly, smart-open, pydantic, preshed, blis, thinc, spacy-loggers, spacy-legacy, pathy, langcodes, spacy\n",
      "Successfully installed blis-0.7.6 catalogue-2.0.6 cymem-2.0.6 langcodes-3.3.0 murmurhash-1.0.6 pathy-0.6.1 preshed-3.0.6 pydantic-1.8.2 smart-open-5.2.1 spacy-3.2.3 spacy-legacy-3.0.9 spacy-loggers-1.0.1 srsly-2.4.2 thinc-8.0.13 typer-0.4.0 wasabi-0.9.0\n"
     ]
    }
   ],
   "source": [
    "pip install -U spacy"
   ]
  },
  {
   "cell_type": "code",
   "execution_count": 30,
   "metadata": {},
   "outputs": [
    {
     "name": "stdout",
     "output_type": "stream",
     "text": [
      "Collecting en-core-web-trf==3.2.0\n",
      "  Downloading https://github.com/explosion/spacy-models/releases/download/en_core_web_trf-3.2.0/en_core_web_trf-3.2.0-py3-none-any.whl (460.2 MB)\n",
      "\u001b[K     |████████████████████████████████| 460.2 MB 13 kB/s s eta 0:00:01   |███                             | 42.3 MB 6.1 MB/s eta 0:01:09     |███▏                            | 46.2 MB 6.1 MB/s eta 0:01:08     |█████▌                          | 79.9 MB 856 kB/s eta 0:07:25     |████████████▊                   | 183.0 MB 933 kB/s eta 0:04:57/s eta 0:00:04[K     |███████████████████             | 274.7 MB 866 kB/s eta 0:03:35     |███████████████████▎            | 276.9 MB 866 kB/s eta 0:03:32�████████▎           | 292.2 MB 866 kB/s eta 0:03:14     |█████████████████████▉          | 314.6 MB 868 kB/s eta 0:02:48██████████████████████▌       | 352.3 MB 29.9 MB/s eta 0:00:04     |████████████████████████▌       | 352.4 MB 29.9 MB/s eta 0:00:04     |███████████████████████████▏    | 390.7 MB 833 kB/s eta 0:01:24     |███████████████████████████▍    | 394.7 MB 833 kB/s eta 0:01:19████████▍   | 408.5 MB 833 kB/s eta 0:01:03\n",
      "\u001b[?25hRequirement already satisfied: spacy-transformers<1.2.0,>=1.1.2 in /home/gfco/.asdf/installs/python/anaconda3-2021.11/lib/python3.9/site-packages (from en-core-web-trf==3.2.0) (1.1.4)\n",
      "Requirement already satisfied: spacy<3.3.0,>=3.2.0 in /home/gfco/.asdf/installs/python/anaconda3-2021.11/lib/python3.9/site-packages (from en-core-web-trf==3.2.0) (3.2.3)\n",
      "Requirement already satisfied: srsly<3.0.0,>=2.4.1 in /home/gfco/.asdf/installs/python/anaconda3-2021.11/lib/python3.9/site-packages (from spacy<3.3.0,>=3.2.0->en-core-web-trf==3.2.0) (2.4.2)\n",
      "Requirement already satisfied: typer<0.5.0,>=0.3.0 in /home/gfco/.asdf/installs/python/anaconda3-2021.11/lib/python3.9/site-packages (from spacy<3.3.0,>=3.2.0->en-core-web-trf==3.2.0) (0.4.0)\n",
      "Requirement already satisfied: wasabi<1.1.0,>=0.8.1 in /home/gfco/.asdf/installs/python/anaconda3-2021.11/lib/python3.9/site-packages (from spacy<3.3.0,>=3.2.0->en-core-web-trf==3.2.0) (0.9.0)\n",
      "Requirement already satisfied: thinc<8.1.0,>=8.0.12 in /home/gfco/.asdf/installs/python/anaconda3-2021.11/lib/python3.9/site-packages (from spacy<3.3.0,>=3.2.0->en-core-web-trf==3.2.0) (8.0.13)\n",
      "Requirement already satisfied: catalogue<2.1.0,>=2.0.6 in /home/gfco/.asdf/installs/python/anaconda3-2021.11/lib/python3.9/site-packages (from spacy<3.3.0,>=3.2.0->en-core-web-trf==3.2.0) (2.0.6)\n",
      "Requirement already satisfied: pathy>=0.3.5 in /home/gfco/.asdf/installs/python/anaconda3-2021.11/lib/python3.9/site-packages (from spacy<3.3.0,>=3.2.0->en-core-web-trf==3.2.0) (0.6.1)\n",
      "Requirement already satisfied: tqdm<5.0.0,>=4.38.0 in /home/gfco/.asdf/installs/python/anaconda3-2021.11/lib/python3.9/site-packages (from spacy<3.3.0,>=3.2.0->en-core-web-trf==3.2.0) (4.62.3)\n",
      "Requirement already satisfied: spacy-legacy<3.1.0,>=3.0.8 in /home/gfco/.asdf/installs/python/anaconda3-2021.11/lib/python3.9/site-packages (from spacy<3.3.0,>=3.2.0->en-core-web-trf==3.2.0) (3.0.9)\n",
      "Requirement already satisfied: jinja2 in /home/gfco/.asdf/installs/python/anaconda3-2021.11/lib/python3.9/site-packages (from spacy<3.3.0,>=3.2.0->en-core-web-trf==3.2.0) (2.11.3)\n",
      "Requirement already satisfied: blis<0.8.0,>=0.4.0 in /home/gfco/.asdf/installs/python/anaconda3-2021.11/lib/python3.9/site-packages (from spacy<3.3.0,>=3.2.0->en-core-web-trf==3.2.0) (0.7.6)\n",
      "Requirement already satisfied: numpy>=1.15.0 in /home/gfco/.asdf/installs/python/anaconda3-2021.11/lib/python3.9/site-packages (from spacy<3.3.0,>=3.2.0->en-core-web-trf==3.2.0) (1.20.3)\n",
      "Requirement already satisfied: cymem<2.1.0,>=2.0.2 in /home/gfco/.asdf/installs/python/anaconda3-2021.11/lib/python3.9/site-packages (from spacy<3.3.0,>=3.2.0->en-core-web-trf==3.2.0) (2.0.6)\n",
      "Requirement already satisfied: requests<3.0.0,>=2.13.0 in /home/gfco/.asdf/installs/python/anaconda3-2021.11/lib/python3.9/site-packages (from spacy<3.3.0,>=3.2.0->en-core-web-trf==3.2.0) (2.26.0)\n",
      "Requirement already satisfied: spacy-loggers<2.0.0,>=1.0.0 in /home/gfco/.asdf/installs/python/anaconda3-2021.11/lib/python3.9/site-packages (from spacy<3.3.0,>=3.2.0->en-core-web-trf==3.2.0) (1.0.1)\n",
      "Requirement already satisfied: langcodes<4.0.0,>=3.2.0 in /home/gfco/.asdf/installs/python/anaconda3-2021.11/lib/python3.9/site-packages (from spacy<3.3.0,>=3.2.0->en-core-web-trf==3.2.0) (3.3.0)\n",
      "Requirement already satisfied: packaging>=20.0 in /home/gfco/.asdf/installs/python/anaconda3-2021.11/lib/python3.9/site-packages (from spacy<3.3.0,>=3.2.0->en-core-web-trf==3.2.0) (21.0)\n",
      "Requirement already satisfied: pydantic!=1.8,!=1.8.1,<1.9.0,>=1.7.4 in /home/gfco/.asdf/installs/python/anaconda3-2021.11/lib/python3.9/site-packages (from spacy<3.3.0,>=3.2.0->en-core-web-trf==3.2.0) (1.8.2)\n",
      "Requirement already satisfied: murmurhash<1.1.0,>=0.28.0 in /home/gfco/.asdf/installs/python/anaconda3-2021.11/lib/python3.9/site-packages (from spacy<3.3.0,>=3.2.0->en-core-web-trf==3.2.0) (1.0.6)\n",
      "Requirement already satisfied: preshed<3.1.0,>=3.0.2 in /home/gfco/.asdf/installs/python/anaconda3-2021.11/lib/python3.9/site-packages (from spacy<3.3.0,>=3.2.0->en-core-web-trf==3.2.0) (3.0.6)\n",
      "Requirement already satisfied: setuptools in /home/gfco/.asdf/installs/python/anaconda3-2021.11/lib/python3.9/site-packages (from spacy<3.3.0,>=3.2.0->en-core-web-trf==3.2.0) (58.0.4)\n",
      "Requirement already satisfied: pyparsing>=2.0.2 in /home/gfco/.asdf/installs/python/anaconda3-2021.11/lib/python3.9/site-packages (from packaging>=20.0->spacy<3.3.0,>=3.2.0->en-core-web-trf==3.2.0) (3.0.4)\n",
      "Requirement already satisfied: smart-open<6.0.0,>=5.0.0 in /home/gfco/.asdf/installs/python/anaconda3-2021.11/lib/python3.9/site-packages (from pathy>=0.3.5->spacy<3.3.0,>=3.2.0->en-core-web-trf==3.2.0) (5.2.1)\n",
      "Requirement already satisfied: typing-extensions>=3.7.4.3 in /home/gfco/.asdf/installs/python/anaconda3-2021.11/lib/python3.9/site-packages (from pydantic!=1.8,!=1.8.1,<1.9.0,>=1.7.4->spacy<3.3.0,>=3.2.0->en-core-web-trf==3.2.0) (3.10.0.2)\n",
      "Requirement already satisfied: certifi>=2017.4.17 in /home/gfco/.asdf/installs/python/anaconda3-2021.11/lib/python3.9/site-packages (from requests<3.0.0,>=2.13.0->spacy<3.3.0,>=3.2.0->en-core-web-trf==3.2.0) (2021.10.8)\n",
      "Requirement already satisfied: urllib3<1.27,>=1.21.1 in /home/gfco/.asdf/installs/python/anaconda3-2021.11/lib/python3.9/site-packages (from requests<3.0.0,>=2.13.0->spacy<3.3.0,>=3.2.0->en-core-web-trf==3.2.0) (1.26.7)\n",
      "Requirement already satisfied: idna<4,>=2.5 in /home/gfco/.asdf/installs/python/anaconda3-2021.11/lib/python3.9/site-packages (from requests<3.0.0,>=2.13.0->spacy<3.3.0,>=3.2.0->en-core-web-trf==3.2.0) (3.2)\n",
      "Requirement already satisfied: charset-normalizer~=2.0.0 in /home/gfco/.asdf/installs/python/anaconda3-2021.11/lib/python3.9/site-packages (from requests<3.0.0,>=2.13.0->spacy<3.3.0,>=3.2.0->en-core-web-trf==3.2.0) (2.0.4)\n",
      "Requirement already satisfied: spacy-alignments<1.0.0,>=0.7.2 in /home/gfco/.asdf/installs/python/anaconda3-2021.11/lib/python3.9/site-packages (from spacy-transformers<1.2.0,>=1.1.2->en-core-web-trf==3.2.0) (0.8.4)\n",
      "Requirement already satisfied: transformers<4.16.0,>=3.4.0 in /home/gfco/.asdf/installs/python/anaconda3-2021.11/lib/python3.9/site-packages (from spacy-transformers<1.2.0,>=1.1.2->en-core-web-trf==3.2.0) (4.15.0)\n",
      "Requirement already satisfied: torch>=1.6.0 in /home/gfco/.asdf/installs/python/anaconda3-2021.11/lib/python3.9/site-packages (from spacy-transformers<1.2.0,>=1.1.2->en-core-web-trf==3.2.0) (1.10.2)\n",
      "Requirement already satisfied: huggingface-hub<1.0,>=0.1.0 in /home/gfco/.asdf/installs/python/anaconda3-2021.11/lib/python3.9/site-packages (from transformers<4.16.0,>=3.4.0->spacy-transformers<1.2.0,>=1.1.2->en-core-web-trf==3.2.0) (0.4.0)\n",
      "Requirement already satisfied: regex!=2019.12.17 in /home/gfco/.asdf/installs/python/anaconda3-2021.11/lib/python3.9/site-packages (from transformers<4.16.0,>=3.4.0->spacy-transformers<1.2.0,>=1.1.2->en-core-web-trf==3.2.0) (2021.8.3)\n",
      "Requirement already satisfied: pyyaml>=5.1 in /home/gfco/.asdf/installs/python/anaconda3-2021.11/lib/python3.9/site-packages (from transformers<4.16.0,>=3.4.0->spacy-transformers<1.2.0,>=1.1.2->en-core-web-trf==3.2.0) (6.0)\n",
      "Requirement already satisfied: tokenizers<0.11,>=0.10.1 in /home/gfco/.asdf/installs/python/anaconda3-2021.11/lib/python3.9/site-packages (from transformers<4.16.0,>=3.4.0->spacy-transformers<1.2.0,>=1.1.2->en-core-web-trf==3.2.0) (0.10.3)\n",
      "Requirement already satisfied: filelock in /home/gfco/.asdf/installs/python/anaconda3-2021.11/lib/python3.9/site-packages (from transformers<4.16.0,>=3.4.0->spacy-transformers<1.2.0,>=1.1.2->en-core-web-trf==3.2.0) (3.3.1)\n",
      "Requirement already satisfied: sacremoses in /home/gfco/.asdf/installs/python/anaconda3-2021.11/lib/python3.9/site-packages (from transformers<4.16.0,>=3.4.0->spacy-transformers<1.2.0,>=1.1.2->en-core-web-trf==3.2.0) (0.0.47)\n",
      "Requirement already satisfied: click<9.0.0,>=7.1.1 in /home/gfco/.asdf/installs/python/anaconda3-2021.11/lib/python3.9/site-packages (from typer<0.5.0,>=0.3.0->spacy<3.3.0,>=3.2.0->en-core-web-trf==3.2.0) (8.0.3)\n",
      "Requirement already satisfied: MarkupSafe>=0.23 in /home/gfco/.asdf/installs/python/anaconda3-2021.11/lib/python3.9/site-packages (from jinja2->spacy<3.3.0,>=3.2.0->en-core-web-trf==3.2.0) (1.1.1)\n",
      "Requirement already satisfied: joblib in /home/gfco/.asdf/installs/python/anaconda3-2021.11/lib/python3.9/site-packages (from sacremoses->transformers<4.16.0,>=3.4.0->spacy-transformers<1.2.0,>=1.1.2->en-core-web-trf==3.2.0) (1.1.0)\n",
      "Requirement already satisfied: six in /home/gfco/.asdf/installs/python/anaconda3-2021.11/lib/python3.9/site-packages (from sacremoses->transformers<4.16.0,>=3.4.0->spacy-transformers<1.2.0,>=1.1.2->en-core-web-trf==3.2.0) (1.16.0)\n",
      "\u001b[38;5;2m✔ Download and installation successful\u001b[0m\n",
      "You can now load the package via spacy.load('en_core_web_trf')\n"
     ]
    }
   ],
   "source": [
    "!python -m spacy download en_core_web_trf"
   ]
  },
  {
   "cell_type": "code",
   "execution_count": 32,
   "metadata": {},
   "outputs": [
    {
     "name": "stdout",
     "output_type": "stream",
     "text": [
      "Looking in links: https://download.pytorch.org/whl/torch_stable.html\n",
      "Requirement already satisfied: spacy-transformers in /home/gfco/.asdf/installs/python/anaconda3-2021.11/lib/python3.9/site-packages (1.1.4)\n",
      "Requirement already satisfied: spacy-alignments<1.0.0,>=0.7.2 in /home/gfco/.asdf/installs/python/anaconda3-2021.11/lib/python3.9/site-packages (from spacy-transformers) (0.8.4)\n",
      "Requirement already satisfied: spacy<4.0.0,>=3.1.3 in /home/gfco/.asdf/installs/python/anaconda3-2021.11/lib/python3.9/site-packages (from spacy-transformers) (3.2.3)\n",
      "Requirement already satisfied: torch>=1.6.0 in /home/gfco/.asdf/installs/python/anaconda3-2021.11/lib/python3.9/site-packages (from spacy-transformers) (1.10.2)\n",
      "Requirement already satisfied: srsly<3.0.0,>=2.4.0 in /home/gfco/.asdf/installs/python/anaconda3-2021.11/lib/python3.9/site-packages (from spacy-transformers) (2.4.2)\n",
      "Requirement already satisfied: transformers<4.16.0,>=3.4.0 in /home/gfco/.asdf/installs/python/anaconda3-2021.11/lib/python3.9/site-packages (from spacy-transformers) (4.15.0)\n",
      "Requirement already satisfied: cymem<2.1.0,>=2.0.2 in /home/gfco/.asdf/installs/python/anaconda3-2021.11/lib/python3.9/site-packages (from spacy<4.0.0,>=3.1.3->spacy-transformers) (2.0.6)\n",
      "Requirement already satisfied: wasabi<1.1.0,>=0.8.1 in /home/gfco/.asdf/installs/python/anaconda3-2021.11/lib/python3.9/site-packages (from spacy<4.0.0,>=3.1.3->spacy-transformers) (0.9.0)\n",
      "Requirement already satisfied: typer<0.5.0,>=0.3.0 in /home/gfco/.asdf/installs/python/anaconda3-2021.11/lib/python3.9/site-packages (from spacy<4.0.0,>=3.1.3->spacy-transformers) (0.4.0)\n",
      "Requirement already satisfied: packaging>=20.0 in /home/gfco/.asdf/installs/python/anaconda3-2021.11/lib/python3.9/site-packages (from spacy<4.0.0,>=3.1.3->spacy-transformers) (21.0)\n",
      "Requirement already satisfied: setuptools in /home/gfco/.asdf/installs/python/anaconda3-2021.11/lib/python3.9/site-packages (from spacy<4.0.0,>=3.1.3->spacy-transformers) (58.0.4)\n",
      "Requirement already satisfied: tqdm<5.0.0,>=4.38.0 in /home/gfco/.asdf/installs/python/anaconda3-2021.11/lib/python3.9/site-packages (from spacy<4.0.0,>=3.1.3->spacy-transformers) (4.62.3)\n",
      "Requirement already satisfied: langcodes<4.0.0,>=3.2.0 in /home/gfco/.asdf/installs/python/anaconda3-2021.11/lib/python3.9/site-packages (from spacy<4.0.0,>=3.1.3->spacy-transformers) (3.3.0)\n",
      "Requirement already satisfied: requests<3.0.0,>=2.13.0 in /home/gfco/.asdf/installs/python/anaconda3-2021.11/lib/python3.9/site-packages (from spacy<4.0.0,>=3.1.3->spacy-transformers) (2.26.0)\n",
      "Requirement already satisfied: blis<0.8.0,>=0.4.0 in /home/gfco/.asdf/installs/python/anaconda3-2021.11/lib/python3.9/site-packages (from spacy<4.0.0,>=3.1.3->spacy-transformers) (0.7.6)\n",
      "Requirement already satisfied: preshed<3.1.0,>=3.0.2 in /home/gfco/.asdf/installs/python/anaconda3-2021.11/lib/python3.9/site-packages (from spacy<4.0.0,>=3.1.3->spacy-transformers) (3.0.6)\n",
      "Requirement already satisfied: pathy>=0.3.5 in /home/gfco/.asdf/installs/python/anaconda3-2021.11/lib/python3.9/site-packages (from spacy<4.0.0,>=3.1.3->spacy-transformers) (0.6.1)\n",
      "Requirement already satisfied: thinc<8.1.0,>=8.0.12 in /home/gfco/.asdf/installs/python/anaconda3-2021.11/lib/python3.9/site-packages (from spacy<4.0.0,>=3.1.3->spacy-transformers) (8.0.13)\n",
      "Requirement already satisfied: numpy>=1.15.0 in /home/gfco/.asdf/installs/python/anaconda3-2021.11/lib/python3.9/site-packages (from spacy<4.0.0,>=3.1.3->spacy-transformers) (1.20.3)\n",
      "Requirement already satisfied: spacy-loggers<2.0.0,>=1.0.0 in /home/gfco/.asdf/installs/python/anaconda3-2021.11/lib/python3.9/site-packages (from spacy<4.0.0,>=3.1.3->spacy-transformers) (1.0.1)\n",
      "Requirement already satisfied: spacy-legacy<3.1.0,>=3.0.8 in /home/gfco/.asdf/installs/python/anaconda3-2021.11/lib/python3.9/site-packages (from spacy<4.0.0,>=3.1.3->spacy-transformers) (3.0.9)\n",
      "Requirement already satisfied: pydantic!=1.8,!=1.8.1,<1.9.0,>=1.7.4 in /home/gfco/.asdf/installs/python/anaconda3-2021.11/lib/python3.9/site-packages (from spacy<4.0.0,>=3.1.3->spacy-transformers) (1.8.2)\n",
      "Requirement already satisfied: jinja2 in /home/gfco/.asdf/installs/python/anaconda3-2021.11/lib/python3.9/site-packages (from spacy<4.0.0,>=3.1.3->spacy-transformers) (2.11.3)\n",
      "Requirement already satisfied: murmurhash<1.1.0,>=0.28.0 in /home/gfco/.asdf/installs/python/anaconda3-2021.11/lib/python3.9/site-packages (from spacy<4.0.0,>=3.1.3->spacy-transformers) (1.0.6)\n",
      "Requirement already satisfied: catalogue<2.1.0,>=2.0.6 in /home/gfco/.asdf/installs/python/anaconda3-2021.11/lib/python3.9/site-packages (from spacy<4.0.0,>=3.1.3->spacy-transformers) (2.0.6)\n",
      "Requirement already satisfied: pyparsing>=2.0.2 in /home/gfco/.asdf/installs/python/anaconda3-2021.11/lib/python3.9/site-packages (from packaging>=20.0->spacy<4.0.0,>=3.1.3->spacy-transformers) (3.0.4)\n",
      "Requirement already satisfied: smart-open<6.0.0,>=5.0.0 in /home/gfco/.asdf/installs/python/anaconda3-2021.11/lib/python3.9/site-packages (from pathy>=0.3.5->spacy<4.0.0,>=3.1.3->spacy-transformers) (5.2.1)\n",
      "Requirement already satisfied: typing-extensions>=3.7.4.3 in /home/gfco/.asdf/installs/python/anaconda3-2021.11/lib/python3.9/site-packages (from pydantic!=1.8,!=1.8.1,<1.9.0,>=1.7.4->spacy<4.0.0,>=3.1.3->spacy-transformers) (3.10.0.2)\n",
      "Requirement already satisfied: certifi>=2017.4.17 in /home/gfco/.asdf/installs/python/anaconda3-2021.11/lib/python3.9/site-packages (from requests<3.0.0,>=2.13.0->spacy<4.0.0,>=3.1.3->spacy-transformers) (2021.10.8)\n",
      "Requirement already satisfied: charset-normalizer~=2.0.0 in /home/gfco/.asdf/installs/python/anaconda3-2021.11/lib/python3.9/site-packages (from requests<3.0.0,>=2.13.0->spacy<4.0.0,>=3.1.3->spacy-transformers) (2.0.4)\n",
      "Requirement already satisfied: idna<4,>=2.5 in /home/gfco/.asdf/installs/python/anaconda3-2021.11/lib/python3.9/site-packages (from requests<3.0.0,>=2.13.0->spacy<4.0.0,>=3.1.3->spacy-transformers) (3.2)\n",
      "Requirement already satisfied: urllib3<1.27,>=1.21.1 in /home/gfco/.asdf/installs/python/anaconda3-2021.11/lib/python3.9/site-packages (from requests<3.0.0,>=2.13.0->spacy<4.0.0,>=3.1.3->spacy-transformers) (1.26.7)\n",
      "Requirement already satisfied: sacremoses in /home/gfco/.asdf/installs/python/anaconda3-2021.11/lib/python3.9/site-packages (from transformers<4.16.0,>=3.4.0->spacy-transformers) (0.0.47)\n",
      "Requirement already satisfied: pyyaml>=5.1 in /home/gfco/.asdf/installs/python/anaconda3-2021.11/lib/python3.9/site-packages (from transformers<4.16.0,>=3.4.0->spacy-transformers) (6.0)\n",
      "Requirement already satisfied: regex!=2019.12.17 in /home/gfco/.asdf/installs/python/anaconda3-2021.11/lib/python3.9/site-packages (from transformers<4.16.0,>=3.4.0->spacy-transformers) (2021.8.3)\n",
      "Requirement already satisfied: filelock in /home/gfco/.asdf/installs/python/anaconda3-2021.11/lib/python3.9/site-packages (from transformers<4.16.0,>=3.4.0->spacy-transformers) (3.3.1)\n",
      "Requirement already satisfied: tokenizers<0.11,>=0.10.1 in /home/gfco/.asdf/installs/python/anaconda3-2021.11/lib/python3.9/site-packages (from transformers<4.16.0,>=3.4.0->spacy-transformers) (0.10.3)\n",
      "Requirement already satisfied: huggingface-hub<1.0,>=0.1.0 in /home/gfco/.asdf/installs/python/anaconda3-2021.11/lib/python3.9/site-packages (from transformers<4.16.0,>=3.4.0->spacy-transformers) (0.4.0)\n",
      "Requirement already satisfied: click<9.0.0,>=7.1.1 in /home/gfco/.asdf/installs/python/anaconda3-2021.11/lib/python3.9/site-packages (from typer<0.5.0,>=0.3.0->spacy<4.0.0,>=3.1.3->spacy-transformers) (8.0.3)\n",
      "Requirement already satisfied: MarkupSafe>=0.23 in /home/gfco/.asdf/installs/python/anaconda3-2021.11/lib/python3.9/site-packages (from jinja2->spacy<4.0.0,>=3.1.3->spacy-transformers) (1.1.1)\n",
      "Requirement already satisfied: joblib in /home/gfco/.asdf/installs/python/anaconda3-2021.11/lib/python3.9/site-packages (from sacremoses->transformers<4.16.0,>=3.4.0->spacy-transformers) (1.1.0)\n",
      "Requirement already satisfied: six in /home/gfco/.asdf/installs/python/anaconda3-2021.11/lib/python3.9/site-packages (from sacremoses->transformers<4.16.0,>=3.4.0->spacy-transformers) (1.16.0)\n",
      "Note: you may need to restart the kernel to use updated packages.\n"
     ]
    }
   ],
   "source": [
    "pip install spacy-transformers -f https://download.pytorch.org/whl/torch_stable.html"
   ]
  },
  {
   "cell_type": "markdown",
   "metadata": {},
   "source": [
    "# Download Data"
   ]
  },
  {
   "cell_type": "code",
   "execution_count": 2,
   "metadata": {},
   "outputs": [
    {
     "name": "stdout",
     "output_type": "stream",
     "text": [
      "Warning: Your Kaggle API key is readable by other users on this system! To fix this, you can run 'chmod 600 /home/gfco/.kaggle/kaggle.json'\n",
      "Downloading sentiment-analysis-on-movie-reviews.zip to /home/gfco/Projects/SentimentAnalysisOnMovieReviews\n",
      " 53%|████████████████████                  | 1.00M/1.90M [00:00<00:00, 9.07MB/s]\n",
      "100%|██████████████████████████████████████| 1.90M/1.90M [00:00<00:00, 14.6MB/s]\n",
      "Archive:  ./sentiment-analysis-on-movie-reviews.zip\n",
      "  inflating: ./data/sampleSubmission.csv  \n",
      "  inflating: ./data/test.tsv.zip     \n",
      "  inflating: ./data/train.tsv.zip    \n",
      "Archive:  ./data/test.tsv.zip\n",
      "  inflating: ./data/test.tsv         \n",
      "Archive:  ./data/train.tsv.zip\n",
      "  inflating: ./data/train.tsv        \n"
     ]
    }
   ],
   "source": [
    "!kaggle competitions download -c sentiment-analysis-on-movie-reviews\n",
    "!unzip ./sentiment-analysis-on-movie-reviews.zip -d ./data/\n",
    "!rm sentiment-analysis-on-movie-reviews.zip\n",
    "!unzip ./data/test.tsv.zip -d ./data/\n",
    "!unzip ./data/train.tsv.zip -d ./data/\n",
    "!rm ./data/train.tsv.zip\n",
    "!rm ./data/test.tsv.zip"
   ]
  },
  {
   "cell_type": "markdown",
   "metadata": {},
   "source": [
    "# Read Data"
   ]
  },
  {
   "cell_type": "code",
   "execution_count": 1,
   "metadata": {},
   "outputs": [],
   "source": [
    "import pandas as pd\n",
    "\n",
    "test = pd.read_csv('./data/test.tsv', sep='\\t')\n",
    "train = pd.read_csv('./data/train.tsv', sep='\\t')\n",
    "sample_submission = pd.read_csv('./data/sampleSubmission.csv', sep='\\t')"
   ]
  },
  {
   "cell_type": "code",
   "execution_count": 2,
   "metadata": {},
   "outputs": [
    {
     "data": {
      "text/html": [
       "<div>\n",
       "<style scoped>\n",
       "    .dataframe tbody tr th:only-of-type {\n",
       "        vertical-align: middle;\n",
       "    }\n",
       "\n",
       "    .dataframe tbody tr th {\n",
       "        vertical-align: top;\n",
       "    }\n",
       "\n",
       "    .dataframe thead th {\n",
       "        text-align: right;\n",
       "    }\n",
       "</style>\n",
       "<table border=\"1\" class=\"dataframe\">\n",
       "  <thead>\n",
       "    <tr style=\"text-align: right;\">\n",
       "      <th></th>\n",
       "      <th>PhraseId</th>\n",
       "      <th>SentenceId</th>\n",
       "      <th>Phrase</th>\n",
       "    </tr>\n",
       "  </thead>\n",
       "  <tbody>\n",
       "    <tr>\n",
       "      <th>0</th>\n",
       "      <td>156061</td>\n",
       "      <td>8545</td>\n",
       "      <td>An intermittently pleasing but mostly routine ...</td>\n",
       "    </tr>\n",
       "    <tr>\n",
       "      <th>1</th>\n",
       "      <td>156062</td>\n",
       "      <td>8545</td>\n",
       "      <td>An intermittently pleasing but mostly routine ...</td>\n",
       "    </tr>\n",
       "    <tr>\n",
       "      <th>2</th>\n",
       "      <td>156063</td>\n",
       "      <td>8545</td>\n",
       "      <td>An</td>\n",
       "    </tr>\n",
       "    <tr>\n",
       "      <th>3</th>\n",
       "      <td>156064</td>\n",
       "      <td>8545</td>\n",
       "      <td>intermittently pleasing but mostly routine effort</td>\n",
       "    </tr>\n",
       "    <tr>\n",
       "      <th>4</th>\n",
       "      <td>156065</td>\n",
       "      <td>8545</td>\n",
       "      <td>intermittently pleasing but mostly routine</td>\n",
       "    </tr>\n",
       "    <tr>\n",
       "      <th>...</th>\n",
       "      <td>...</td>\n",
       "      <td>...</td>\n",
       "      <td>...</td>\n",
       "    </tr>\n",
       "    <tr>\n",
       "      <th>66287</th>\n",
       "      <td>222348</td>\n",
       "      <td>11855</td>\n",
       "      <td>A long-winded , predictable scenario .</td>\n",
       "    </tr>\n",
       "    <tr>\n",
       "      <th>66288</th>\n",
       "      <td>222349</td>\n",
       "      <td>11855</td>\n",
       "      <td>A long-winded , predictable scenario</td>\n",
       "    </tr>\n",
       "    <tr>\n",
       "      <th>66289</th>\n",
       "      <td>222350</td>\n",
       "      <td>11855</td>\n",
       "      <td>A long-winded ,</td>\n",
       "    </tr>\n",
       "    <tr>\n",
       "      <th>66290</th>\n",
       "      <td>222351</td>\n",
       "      <td>11855</td>\n",
       "      <td>A long-winded</td>\n",
       "    </tr>\n",
       "    <tr>\n",
       "      <th>66291</th>\n",
       "      <td>222352</td>\n",
       "      <td>11855</td>\n",
       "      <td>predictable scenario</td>\n",
       "    </tr>\n",
       "  </tbody>\n",
       "</table>\n",
       "<p>66292 rows × 3 columns</p>\n",
       "</div>"
      ],
      "text/plain": [
       "       PhraseId  SentenceId                                             Phrase\n",
       "0        156061        8545  An intermittently pleasing but mostly routine ...\n",
       "1        156062        8545  An intermittently pleasing but mostly routine ...\n",
       "2        156063        8545                                                 An\n",
       "3        156064        8545  intermittently pleasing but mostly routine effort\n",
       "4        156065        8545         intermittently pleasing but mostly routine\n",
       "...         ...         ...                                                ...\n",
       "66287    222348       11855             A long-winded , predictable scenario .\n",
       "66288    222349       11855               A long-winded , predictable scenario\n",
       "66289    222350       11855                                    A long-winded ,\n",
       "66290    222351       11855                                      A long-winded\n",
       "66291    222352       11855                               predictable scenario\n",
       "\n",
       "[66292 rows x 3 columns]"
      ]
     },
     "execution_count": 2,
     "metadata": {},
     "output_type": "execute_result"
    }
   ],
   "source": [
    "test"
   ]
  },
  {
   "cell_type": "markdown",
   "metadata": {},
   "source": [
    "# Tokenization"
   ]
  },
  {
   "cell_type": "code",
   "execution_count": 18,
   "metadata": {},
   "outputs": [],
   "source": [
    "import spacy\n",
    "nlp = spacy.load(\"en_core_web_trf\")"
   ]
  },
  {
   "cell_type": "code",
   "execution_count": 5,
   "metadata": {},
   "outputs": [],
   "source": [
    "def tokenizer(text):\n",
    "\tdoc = nlp(text)\n",
    "\ttokens = [token.orth_.lower() for token in doc if token.is_alpha]\n",
    "\ttext_pre = ''\n",
    "\tfor token in tokens:\n",
    "\t\ttext_pre = text_pre + ' ' + token\n",
    "\treturn text_pre"
   ]
  },
  {
   "cell_type": "code",
   "execution_count": 6,
   "metadata": {},
   "outputs": [
    {
     "ename": "NameError",
     "evalue": "name 'tokenizer' is not defined",
     "output_type": "error",
     "traceback": [
      "\u001b[0;31m---------------------------------------------------------------------------\u001b[0m",
      "\u001b[0;31mNameError\u001b[0m                                 Traceback (most recent call last)",
      "\u001b[0;32m/tmp/ipykernel_6726/754933687.py\u001b[0m in \u001b[0;36m<module>\u001b[0;34m\u001b[0m\n\u001b[1;32m      1\u001b[0m \u001b[0;32mfor\u001b[0m \u001b[0mi\u001b[0m \u001b[0;32min\u001b[0m \u001b[0mrange\u001b[0m\u001b[0;34m(\u001b[0m\u001b[0;36m0\u001b[0m\u001b[0;34m,\u001b[0m \u001b[0mtest\u001b[0m\u001b[0;34m.\u001b[0m\u001b[0mshape\u001b[0m\u001b[0;34m[\u001b[0m\u001b[0;36m0\u001b[0m\u001b[0;34m]\u001b[0m\u001b[0;34m-\u001b[0m\u001b[0;36m1\u001b[0m\u001b[0;34m,\u001b[0m \u001b[0;36m1\u001b[0m\u001b[0;34m)\u001b[0m\u001b[0;34m:\u001b[0m\u001b[0;34m\u001b[0m\u001b[0;34m\u001b[0m\u001b[0m\n\u001b[0;32m----> 2\u001b[0;31m         \u001b[0mprint\u001b[0m\u001b[0;34m(\u001b[0m\u001b[0mtokenizer\u001b[0m\u001b[0;34m(\u001b[0m\u001b[0mtest\u001b[0m\u001b[0;34m.\u001b[0m\u001b[0mPhrase\u001b[0m\u001b[0;34m[\u001b[0m\u001b[0mi\u001b[0m\u001b[0;34m]\u001b[0m\u001b[0;34m)\u001b[0m\u001b[0;34m)\u001b[0m\u001b[0;34m\u001b[0m\u001b[0;34m\u001b[0m\u001b[0m\n\u001b[0m\u001b[1;32m      3\u001b[0m         \u001b[0;31m# test.Phrase[i] = tokenizer(test.Phrase[i])\u001b[0m\u001b[0;34m\u001b[0m\u001b[0;34m\u001b[0m\u001b[0m\n",
      "\u001b[0;31mNameError\u001b[0m: name 'tokenizer' is not defined"
     ]
    }
   ],
   "source": [
    "for i in range(0, test.shape[0]-1, 1):\n",
    "\tprint(tokenizer(test.Phrase[i]))\n",
    "\t# test.Phrase[i] = tokenizer(test.Phrase[i])"
   ]
  },
  {
   "cell_type": "code",
   "execution_count": 29,
   "metadata": {},
   "outputs": [
    {
     "name": "stdout",
     "output_type": "stream",
     "text": [
      "   PhraseId  SentenceId                                                 Phrase\n",
      "0    156061        8545   an intermittently pleasing but mostly routine effort\n",
      "1    156062        8545   an intermittently pleasing but mostly routine effort\n",
      "2    156063        8545                                                     an\n",
      "3    156064        8545      intermittently pleasing but mostly routine effort\n",
      "4    156065        8545             intermittently pleasing but mostly routine\n"
     ]
    }
   ],
   "source": [
    "pd.set_option(\"display.max_colwidth\", None)\n",
    "print(test.head())"
   ]
  }
 ],
 "metadata": {
  "interpreter": {
   "hash": "0b8f489f2b9e395dba464e281eeb3346d4db6e6bee2ff33c876d4da5cb83d8d5"
  },
  "kernelspec": {
   "display_name": "Python 3.9.7 ('base')",
   "language": "python",
   "name": "python3"
  },
  "language_info": {
   "codemirror_mode": {
    "name": "ipython",
    "version": 3
   },
   "file_extension": ".py",
   "mimetype": "text/x-python",
   "name": "python",
   "nbconvert_exporter": "python",
   "pygments_lexer": "ipython3",
   "version": "3.9.7"
  },
  "orig_nbformat": 4
 },
 "nbformat": 4,
 "nbformat_minor": 2
}
